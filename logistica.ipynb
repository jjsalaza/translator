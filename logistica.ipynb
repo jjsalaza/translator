{
  "nbformat": 4,
  "nbformat_minor": 0,
  "metadata": {
    "colab": {
      "name": "logistica.ipynb",
      "version": "0.3.2",
      "provenance": [],
      "collapsed_sections": [],
      "toc_visible": true,
      "include_colab_link": true
    },
    "kernelspec": {
      "display_name": "Python 3",
      "language": "python",
      "name": "python3"
    }
  },
  "cells": [
    {
      "cell_type": "markdown",
      "metadata": {
        "id": "view-in-github",
        "colab_type": "text"
      },
      "source": [
        "<a href=\"https://colab.research.google.com/github/jjsalaza/translator/blob/master/logistica.ipynb\" target=\"_parent\"><img src=\"https://colab.research.google.com/assets/colab-badge.svg\" alt=\"Open In Colab\"/></a>"
      ]
    },
    {
      "metadata": {
        "colab_type": "text",
        "id": "11DXYsXAo6Oe"
      },
      "cell_type": "markdown",
      "source": [
        "# Ingeniería Logística, Grado de Informática, Universidad de La Laguna\n",
        "---\n",
        "\n"
      ]
    },
    {
      "metadata": {
        "colab_type": "text",
        "id": "dUf6bpwqw-su"
      },
      "cell_type": "markdown",
      "source": [
        "# Introducción"
      ]
    },
    {
      "metadata": {
        "colab_type": "text",
        "id": "TdkhAmqKpWfu"
      },
      "cell_type": "markdown",
      "source": [
        "Principalmente aprendemos a representar problemas reales mediante modelos matemáticos de programación lineal (continua o entera), es decir, del tipo $\\max\\{ c^Tx: Ax\\leq b, x\\in Z^n\\}$. Luego estos modelos matemáticos serán resueltos mediante herramientas informáticas especializadas, como [Cplex](https://www.ibm.com/analytics/cplex-optimizer), [Xpress](http://www.fico.com/es/products/fico-xpress-optimization), Gurobi, SCIP, GLKP, CBC, GLOP, etc. Aunque dedicamos algo a comprender las metodologías implementadas en estas herramientas, principalmente la asignatura insistirá en la modelización de problemas.\n"
      ]
    },
    {
      "metadata": {
        "colab_type": "text",
        "id": "MFmhocZHtxbD"
      },
      "cell_type": "markdown",
      "source": [
        "Un ejemplo de modelo matemático es:\n",
        "\\begin{eqnarray}\n",
        "\\max\\;\\; x+10y& & \\\\\n",
        "x+7y&\\leq& 17.5  \\\\\n",
        "x &\\leq& 3.5  \\\\\n",
        "x,y&\\in& Z\n",
        "\\end{eqnarray}"
      ]
    },
    {
      "metadata": {
        "colab_type": "text",
        "id": "OfPsh4ymVjwq"
      },
      "cell_type": "markdown",
      "source": [
        "A fín de no complicarnos con la instalación de licencias comerciales, usamos una librería de optimización de software libre que permite ser llamada desde Python y que ha sideo desarrollada en el proyecto [COIN-OR](https://www.coin-or.org/). Se llama CBC. Además en este mismo proyecto existe un lenguaje que amplía el Python y se llama [PuLP](https://www.coin-or.org/PuLP/). Usando este lenguaje el modelo anterior se resuelve mediante:\n"
      ]
    },
    {
      "metadata": {
        "colab_type": "code",
        "id": "WAsnbunBNetP",
        "colab": {}
      },
      "cell_type": "code",
      "source": [
        "!pip install pulp\n",
        "from pulp import *\n",
        "prob = LpProblem(\"MiPrimerProblemaEntero\", LpMaximize)\n",
        "X = LpVariable(\"X\", 0, None,cat='Integer')\n",
        "Y = LpVariable(\"Y\", 0, None,cat='Integer')\n",
        "prob += X + 10 * Y\n",
        "prob += X + 7 * Y <= 17.5\n",
        "prob += X <= 3.5\n",
        "prob.solve()\n",
        "print(\"Status = \", LpStatus[prob.status])\n",
        "print(\"Optimal objective value = \", value(prob.objective))\n",
        "print(\"  X = \", X.varValue)\n",
        "print(\"  Y = \", Y.varValue)\n",
        "# prob.writeLP(\"modelo.lp\")\n",
        "# print(prob)"
      ],
      "execution_count": 0,
      "outputs": []
    },
    {
      "metadata": {
        "id": "44KbU8Rwh48t",
        "colab_type": "text"
      },
      "cell_type": "markdown",
      "source": [
        "En este lenguaje PuLP podemos usar varias librerias de optimización. Por defecto usa la de COIN-or. Pero podemos elegir otras usando por ejemplo:\n",
        "\\begin{verbatim}\n",
        "if liberia == \"GUROBI\":\n",
        "\t\t\tprob.solve(GUROBI(TimeLimit=60,msg=1))\n",
        "\t\telif libreria == \"CBC\":\n",
        "\t\t\tprob.solve(PULP_CBC_CMD(msg=1,maxSeconds=60,options=[\"rens\",\"on\",\"local\",\"on\"]))\n",
        "\t\telse:\n",
        "\t\t\tprint( libreria + \" solver doesn't exists\")\n",
        "\t\t\tquit()\n",
        "\\end{verbatim}\n",
        "En este sentido parece un legunaje ideal, pero hay que tener en cuenta que algunas librerías ofrecen funciones no disponibles en otras librerias (por ejemplo, callback functions) con lo que igual tampoco PuLP es tan ideal."
      ]
    },
    {
      "metadata": {
        "colab_type": "text",
        "id": "MIizVvLKNg1E"
      },
      "cell_type": "markdown",
      "source": [
        "Otra alternativa es usar la nueva herramienta gratuita (¡por ahora!) de Google llamada [OR-tools](https://developers.google.com/optimization/). Ni PuLP ni OR-tools son librerías de optimización, sino extensiones del lenguaje Python para escribir cómodamente modelos matemáticos de Programación Lineal (Entera o Continua) que luego pueden ser resueltas con cualquiera de las librerias citadas (CBC, Cplex, Gurobi,...). Actuan como puente entre quien desea resolver un modelo y quien lo resuelve. Muy cómodo. Muy recomendable. La opción de Google es:"
      ]
    },
    {
      "metadata": {
        "colab_type": "code",
        "id": "QeXiQgwYjfHB",
        "colab": {}
      },
      "cell_type": "code",
      "source": [
        "!pip install ortools\n",
        "from ortools.linear_solver import pywraplp"
      ],
      "execution_count": 0,
      "outputs": []
    },
    {
      "metadata": {
        "colab_type": "text",
        "id": "exS1-MmaTrti"
      },
      "cell_type": "markdown",
      "source": [
        "Tenemos dos modos de escribir los detalles del modelo. O bien coeficiente a coeficiente, o bien fila a fila. Mostramos a continuación ambos:"
      ]
    },
    {
      "metadata": {
        "colab_type": "code",
        "id": "4t3pdCAiUIf5",
        "colab": {}
      },
      "cell_type": "code",
      "source": [
        "solver = pywraplp.Solver('MiPrimerProblemaEntero',\n",
        "                           pywraplp.Solver.CBC_MIXED_INTEGER_PROGRAMMING)\n",
        "\n",
        "# x and y are integer non-negative variables.\n",
        "x = solver.IntVar(0.0, solver.infinity(), 'x')\n",
        "y = solver.IntVar(0.0, solver.infinity(), 'y')\n",
        "\n",
        "solver.Maximize(x + 10 * y)\n",
        "solver.Add( x + 7 * y <= 17.5 )\n",
        "solver.Add( x <= 7.5 )  \n",
        "\n",
        "\"\"\"Solve the problem and print the solution.\"\"\"\n",
        "result_status = solver.Solve()\n",
        "# The problem has an optimal solution.\n",
        "assert result_status == pywraplp.Solver.OPTIMAL\n",
        "  \n",
        "print('Number of variables =', solver.NumVariables())\n",
        "print('Number of constraints =', solver.NumConstraints())\n",
        "print('Optimal objective value = %d' % solver.Objective().Value())\n",
        "  \n",
        "# The value of each variable in the solution.\n",
        "variable_list = [x, y]\n",
        "\n",
        "for variable in variable_list:\n",
        "    print('   %s = %d' % (variable.name(), variable.solution_value()))"
      ],
      "execution_count": 0,
      "outputs": []
    },
    {
      "metadata": {
        "colab_type": "code",
        "id": "jdl-TK8cVVbW",
        "colab": {}
      },
      "cell_type": "code",
      "source": [
        "solver = pywraplp.Solver('MiPrimerProblemaEntero',\n",
        "                           pywraplp.Solver.CBC_MIXED_INTEGER_PROGRAMMING)\n",
        "\n",
        "# x and y are integer non-negative variables.\n",
        "x = solver.IntVar(0.0, solver.infinity(), 'x')\n",
        "y = solver.IntVar(0.0, solver.infinity(), 'y')\n",
        "\n",
        "# x + 7 * y <= 17.5\n",
        "constraint1 = solver.Constraint(-solver.infinity(), 17.5)\n",
        "constraint1.SetCoefficient(x, 1)\n",
        "constraint1.SetCoefficient(y, 7)\n",
        "\n",
        "# x <= 3.5\n",
        "constraint2 = solver.Constraint(-solver.infinity(), 3.5)\n",
        "constraint2.SetCoefficient(x, 1)\n",
        "constraint2.SetCoefficient(y, 0)\n",
        "\n",
        "# Maximize x + 10 * y.\n",
        "objective = solver.Objective()\n",
        "objective.SetCoefficient(x, 1)\n",
        "objective.SetCoefficient(y, 10)\n",
        "objective.SetMaximization()\n",
        "\n",
        "\"\"\"Solve the problem and print the solution.\"\"\"\n",
        "result_status = solver.Solve()\n",
        "# The problem has an optimal solution.\n",
        "assert result_status == pywraplp.Solver.OPTIMAL\n",
        "  \n",
        "print('Number of variables =', solver.NumVariables())\n",
        "print('Number of constraints =', solver.NumConstraints())\n",
        "print('Optimal objective value = %d' % solver.Objective().Value())\n",
        "  \n",
        "# The value of each variable in the solution.\n",
        "variable_list = [x, y]\n",
        "\n",
        "for variable in variable_list:\n",
        "    print('   %s = %d' % (variable.name(), variable.solution_value()))"
      ],
      "execution_count": 0,
      "outputs": []
    },
    {
      "metadata": {
        "colab_type": "text",
        "id": "LmkB1X811j-B"
      },
      "cell_type": "markdown",
      "source": [
        "El anterior ejemplo fue un modelo muy pequeño, con tan sólo 2 variables y 2 restricciones. Son ejemplo numéricos diminutos de nulo interés práctico. En la práctica se plantean problemas más complejos que necesitan ser representado mediante modelos con más variables y restricciones, y en consecuencia donde notación abreviada ayuda a entenderlos mejor y reducir la posibilidad de cometer errores al introducirlos en un ordenador. Veamos un ejemplo de problema mayor en la siguiente sección."
      ]
    },
    {
      "metadata": {
        "colab_type": "text",
        "id": "8rbIq5skxSIX"
      },
      "cell_type": "markdown",
      "source": [
        "# Problemas de Asignación"
      ]
    },
    {
      "metadata": {
        "colab_type": "text",
        "id": "EPckcxHY2xUf"
      },
      "cell_type": "markdown",
      "source": [
        "Imaginemos tener 6 trabajadores y 4 tareas, y conocer el costo de $c_{ij}$ de que el trabajador $i$ esté asignado a la tarea $j$. Se busca asignar un trabajador a cada tarea, y que ningún trabajador esté asignado a más de una máquina, de manera que el coste total sea lo menor posible.\n"
      ]
    },
    {
      "metadata": {
        "colab_type": "code",
        "id": "xtr_eIrrkrII",
        "colab": {}
      },
      "cell_type": "code",
      "source": [
        "cost  =  [[90, 76, 75, 70],\n",
        "          [35, 85, 55, 65],\n",
        "          [125, 95, 90, 105],\n",
        "          [45, 110, 95, 115],\n",
        "          [60, 105, 80, 75],\n",
        "          [45, 65, 110, 95]]\n",
        "num_workers = len(cost)\n",
        "num_tasks   = len(cost[1])"
      ],
      "execution_count": 0,
      "outputs": []
    },
    {
      "metadata": {
        "colab_type": "code",
        "id": "cQ8-xexGJKfc",
        "colab": {}
      },
      "cell_type": "code",
      "source": [
        "solver = pywraplp.Solver('ProblemaAsignacion2dimensional',\n",
        "                           pywraplp.Solver.CBC_MIXED_INTEGER_PROGRAMMING)\n",
        "\n",
        "x = {}\n",
        "\n",
        "for i in range(num_workers):\n",
        "    for j in range(num_tasks):\n",
        "        x[i, j] = solver.BoolVar('x[%i,%i]' % (i, j))\n",
        "\n",
        "# Objective\n",
        "solver.Minimize(solver.Sum([cost[i][j] * x[i,j] for i in range(num_workers)\n",
        "                                                  for j in range(num_tasks)]))\n",
        "\n",
        "# Constraints\n",
        "\n",
        "# Each worker is assigned to at most 1 task.\n",
        "\n",
        "for i in range(num_workers):\n",
        "    solver.Add(solver.Sum([x[i, j] for j in range(num_tasks)]) <= 1)\n",
        "\n",
        "# Each task is assigned to exactly one worker.\n",
        "\n",
        "for j in range(num_tasks):\n",
        "    solver.Add(solver.Sum([x[i, j] for i in range(num_workers)]) == 1)\n",
        "\n",
        "# resolvemos:  \n",
        "sol = solver.Solve()\n",
        "\n",
        "print('Costo total = ', solver.Objective().Value())\n",
        "print()\n",
        "for i in range(num_workers):\n",
        "    for j in range(num_tasks):\n",
        "        if x[i, j].solution_value() > 0:\n",
        "            print('Trabajador %d asignado a la tarea %d.  Costo = %d' % (i,j,cost[i][j]))\n",
        "print()\n",
        "print(\"Time = \", solver.WallTime(), \" milliseconds\")"
      ],
      "execution_count": 0,
      "outputs": []
    },
    {
      "metadata": {
        "colab_type": "text",
        "id": "VUCKuDfB5VNf"
      },
      "cell_type": "markdown",
      "source": [
        "Si los trabajadores estuviesen en dos equipos, por ejemplo, pares e impares, la solución optima obtenida usa más trabajadores de un equipo que del otro. Podría tener sentido que el problema real también desee una solución donde se eligan exactamente 2 trabajadores de cada equipo. Para ello hay que introducir nuevas restricciones en el modelo matemático:"
      ]
    },
    {
      "metadata": {
        "colab_type": "code",
        "id": "LJLBepm44aAX",
        "colab": {}
      },
      "cell_type": "code",
      "source": [
        "team1 = [0, 2, 4]\n",
        "team2 = [1, 3, 5]\n",
        "\n",
        "# Each team takes on two tasks.\n",
        "\n",
        "solver.Add(solver.Sum([x[i, j] for i in team1 for j in range(num_tasks)]) <= 2)\n",
        "solver.Add(solver.Sum([x[i, j] for i in team2 for j in range(num_tasks)]) <= 2)\n",
        "\n",
        "# resolvemos:  \n",
        "sol = solver.Solve()\n",
        "\n",
        "print('Costo total = ', solver.Objective().Value())\n",
        "print()\n",
        "for i in range(num_workers):\n",
        "    for j in range(num_tasks):\n",
        "        if x[i, j].solution_value() > 0:\n",
        "            print('Trabajador %d asignado a la tarea %d.  Costo = %d' % (i,j,cost[i][j]))"
      ],
      "execution_count": 0,
      "outputs": []
    },
    {
      "metadata": {
        "colab_type": "text",
        "id": "nFnQmZKr8H1l"
      },
      "cell_type": "markdown",
      "source": [
        "Como era de esperar, la nueva solución óptima cuesta más que la anterior porque debe cumplir además las nuevas desigualdades."
      ]
    },
    {
      "metadata": {
        "colab_type": "text",
        "id": "caeNLQwBWjey"
      },
      "cell_type": "markdown",
      "source": [
        "Terminemos esta sección con un problema de asignación más complejo, conocido como **problema de asignación 3-dimensional**. Pensemos ahora que tenemos 5 profesores, 5 asignaturas y 5 aulas, y queremos asignar un profesor a cada asignatura en un aula, de modo que cada profesor da 1 asignatura en 1 aula, cada asignatura la da 1 profesor en 1 aula, y cada aula imparte 1 asignatura por 1 profesor. Todo queremos que se realice a costo total mínimo. Concretamente se llama problema de asignación 3-dimensional **axial** porque como veremos su modelo matemático se basa en restricciones que tienen 1 índice libre, en contraposición a otro problema que se llama de asignación 3-dimensional **planar** donde su modelo se basa en restricciones que tienen 2 indices libres. Vemos primero el modelo para el problema axial planteado, es decir, asignar profesores, asignaturas y aulas:"
      ]
    },
    {
      "metadata": {
        "colab_type": "code",
        "id": "WxexrgSTX2q6",
        "colab": {}
      },
      "cell_type": "code",
      "source": [
        "!pip install ortools\n",
        "from ortools.linear_solver import pywraplp\n",
        "import random\n",
        "  \n",
        "dimension = 100\n",
        "opciones  = range(dimension)\n",
        "cost      = [[[random.randint(1,101) for i in opciones] for j in opciones] for k in opciones]\n",
        "\n",
        "\n",
        "solver = pywraplp.Solver('3APaxial', pywraplp.Solver.CBC_MIXED_INTEGER_PROGRAMMING)\n",
        "x = {}\n",
        "for i in opciones:\n",
        "    for j in opciones:\n",
        "        for k in opciones:\n",
        "            x[i,j,k] = solver.BoolVar('x[%i,%i,%i]' % (i,j,k))\n",
        "\n",
        "# Objective\n",
        "solver.Minimize( solver.Sum(cost[i][j][k] * x[i,j,k] for i in opciones for j in opciones for k in opciones))\n",
        "\n",
        "# Constraints\n",
        "\n",
        "[ solver.Add(solver.Sum(x[i,j,k] for j in opciones for k in opciones) == 1) for i in opciones ]\n",
        "[ solver.Add(solver.Sum(x[i,j,k] for i in opciones for k in opciones) == 1) for j in opciones ]\n",
        "[ solver.Add(solver.Sum(x[i,j,k] for i in opciones for j in opciones) == 1) for k in opciones ]\n",
        "    \n",
        "# resolvemos:  \n",
        "sol = solver.Solve()\n",
        "\n",
        "print('Costo total = ', solver.Objective().Value())\n",
        "print()\n",
        "for i in opciones:\n",
        "    for j in opciones:\n",
        "        for k in opciones:\n",
        "            if x[i,j,k].solution_value() > 0:\n",
        "                print('Prof %d con asignatura %d en aula %d.  Costo = %d' % (i,j,k,cost[i][j][k]))\n",
        "print()\n",
        "print(\"Time = \", solver.WallTime(), \" milliseconds\")"
      ],
      "execution_count": 0,
      "outputs": []
    },
    {
      "metadata": {
        "colab_type": "text",
        "id": "evhjAqqida0W"
      },
      "cell_type": "markdown",
      "source": [
        "El modelo del problema de asignación 3-dimensional **planar** es el siguiente. Nótese que **no** es un modelo alternativo para el problema de asignación de profesores, asignatura y aulas. Es el modelo de otro problema diferente. Por eso la solución óptima del modelo anterior y del modelo siguiente no coinciden, ni tienen relación alguna. Si tienes curiosidad por conocer el problema asociado a este otro modelo, te sugiero que estudies el concepto de [Cuadrado Latino](https://es.wikipedia.org/wiki/Cuadrado_latino)."
      ]
    },
    {
      "metadata": {
        "colab_type": "code",
        "id": "g8_VJgId-5D0",
        "colab": {}
      },
      "cell_type": "code",
      "source": [
        "solver = pywraplp.Solver('3APplanar', pywraplp.Solver.CBC_MIXED_INTEGER_PROGRAMMING)\n",
        "\n",
        "x = {}\n",
        "for i in opciones:\n",
        "    for j in opciones:\n",
        "        for k in opciones:\n",
        "            x[i,j,k] = solver.BoolVar('x[%i,%i,%i]' % (i,j,k))\n",
        "\n",
        "# Objective\n",
        "solver.Minimize(solver.Sum([cost[i][j][k] * x[i,j,k] for i in opciones for j in opciones for k in opciones]))\n",
        "\n",
        "# Constraints\n",
        "\n",
        "[ solver.Add(solver.Sum([x[i,j,k] for k in opciones]) == 1) for i in opciones for j in opciones ]\n",
        "[ solver.Add(solver.Sum([x[i,j,k] for j in opciones]) == 1) for i in opciones for k in opciones ]\n",
        "[ solver.Add(solver.Sum([x[i,j,k] for i in opciones]) == 1) for j in opciones for k in opciones ]\n",
        "    \n",
        "# resolvemos:  \n",
        "sol = solver.Solve()\n",
        "\n",
        "print('Costo total = ', solver.Objective().Value())\n",
        "print()\n",
        "for i in opciones:\n",
        "    for j in opciones:\n",
        "        for k in opciones:\n",
        "            if x[i,j,k].solution_value() > 0:\n",
        "                print('Indices: %d  %d  %d.  Costo = %d' % (i,j,k,cost[i][j][k]))\n",
        "print()\n",
        "print(\"Time = \", solver.WallTime(), \" milliseconds\")"
      ],
      "execution_count": 0,
      "outputs": []
    },
    {
      "metadata": {
        "colab_type": "text",
        "id": "SSP4fbGOxcOv"
      },
      "cell_type": "markdown",
      "source": [
        "# Problemas de Transporte"
      ]
    },
    {
      "metadata": {
        "colab_type": "text",
        "id": "crpjqkFkxkG0"
      },
      "cell_type": "markdown",
      "source": [
        "# Problemas de Flujo"
      ]
    },
    {
      "metadata": {
        "colab_type": "text",
        "id": "ItwkPwAqxsp9"
      },
      "cell_type": "markdown",
      "source": [
        "# Problemas de Caminos"
      ]
    },
    {
      "metadata": {
        "id": "7JKQTlU5yeIa",
        "colab_type": "code",
        "colab": {}
      },
      "cell_type": "code",
      "source": [
        "import sys\n",
        "import math\n",
        "import random\n",
        "from gurobipy import *\n",
        "\n",
        "import matplotlib.pyplot as plt\n",
        "\n",
        "#  genera N puntos para luego resolver el problema sobre estos datos\n",
        "n = 100\n",
        "random.seed(1)\n",
        "points = [(random.randint(0,100),random.randint(0,100)) for i in range(n)]\n",
        "\n",
        "\n",
        "# calculate Euclidean distance and round-towards-zero (truncate)\n",
        "def distance(points, i, j):\n",
        "    dx = points[i][0] - points[j][0]\n",
        "    dy = points[i][1] - points[j][1]\n",
        "    return math.floor(math.sqrt(dx*dx + dy*dy))\n",
        "\n",
        "# Dictionary of Euclidean distance between each pair of points\n",
        "dist = {(i,j) : distance(points,i,j) for i in range(n) for j in range(i)}\n",
        "  \n",
        "  \n",
        "m = Model()\n",
        "##############################################################################\n",
        "# inserta tu modelo matemático aqui\n",
        "##############################################################################\n",
        "m.optimize()\n",
        "\n",
        "solution = m.getAttr('x', vars)\n",
        "\n",
        "selected = [(i,j) for i,j in arcs if solution[i,j] > 0.5]\n",
        "print filter(lambda x: x[1]>0, solution.iteritems())\n",
        "\n",
        "print map(lambda (i, j): distance(points, i, j), arcs)\n",
        "\n",
        "print('')\n",
        "print('Optimal path: %s' % str(selected))\n",
        "print('Optimal cost: %g' % m.objVal)\n",
        "print('')\n",
        "\n",
        "    \n",
        "def plot_path(points, path, style='bo-'):\n",
        "    \"Plot lines to connect a series of points.\"\n",
        "    plt.plot(map(lambda x: x[1][0], points.iteritems()), map(lambda x: x[1][1], points.iteritems()), 'bo')\n",
        "    target = str(len(points))\n",
        "    plt.plot([points['1'][0],points[target][0]],[points['1'][1],points[target][1]], 'rs')\n",
        "    plt.plot(map(lambda x: (points[x[0]][0],points[x[1]][0]), path), \n",
        "             map(lambda x: (points[x[0]][1],points[x[1]][1]), path), 'b-')\n",
        "    plt.axis('scaled'); plt.axis('off')\n",
        "    plt.show()\n",
        "\n",
        "print points, selected\n",
        "plot_path(points, selected)"
      ],
      "execution_count": 0,
      "outputs": []
    },
    {
      "metadata": {
        "colab_type": "text",
        "id": "AmJHLuWKxxO9"
      },
      "cell_type": "markdown",
      "source": [
        "# Problema del Viajante de Comercio"
      ]
    },
    {
      "metadata": {
        "id": "JHIxTOE14SvG",
        "colab_type": "text"
      },
      "cell_type": "markdown",
      "source": [
        "Modelo asimétrico, es decir, con una variable para $(i,j)$ y otra para $(j,i)$"
      ]
    },
    {
      "metadata": {
        "id": "bCzbWiTa4Q_O",
        "colab_type": "code",
        "colab": {}
      },
      "cell_type": "code",
      "source": [
        "import sys\n",
        "import math\n",
        "import random\n",
        "import itertools\n",
        "from gurobipy import *\n",
        "\n",
        "# Callback: detectando subtours en soluciones enteras\n",
        "\n",
        "def subtourelim(model, where):\n",
        "    if where == GRB.Callback.MIPSOL:\n",
        "        # creamos el grafo soporte con los arcos que tienen variables positivas\n",
        "        vals = model.cbGetSolution(model._vars)\n",
        "        selected = tuplelist((i,j) for i,j in model._vars.keys() if vals[i,j] > 0.5)\n",
        "        # find the shortest cycle in the selected edge list\n",
        "        tour = subtour(selected)\n",
        "        if len(tour) < n:\n",
        "#            print(\"nuevo subtour de \",len(tour),\" nodos detectado\")\n",
        "            model.cbLazy( quicksum(model._vars[i,j]+model._vars[j,i] for i,j in itertools.combinations(tour, 2)) <= len(tour)-1 )\n",
        "\n",
        "\n",
        "# Given a tuplelist of edges, find the shortest subtour\n",
        "\n",
        "def subtour(edges):\n",
        "    unvisited = list(range(n))\n",
        "    cycle = range(n+1) # initial length has 1 more city\n",
        "    while unvisited: # true if list is non-empty\n",
        "        thiscycle = []\n",
        "        neighbors = unvisited\n",
        "        while neighbors:\n",
        "            current = neighbors[0]\n",
        "            thiscycle.append(current)\n",
        "            unvisited.remove(current)\n",
        "            neighbors = [j for i,j in edges.select(current,'*') if j in unvisited]\n",
        "        if len(cycle) > len(thiscycle):\n",
        "            cycle = thiscycle\n",
        "    return cycle\n",
        "\n",
        "# función principal\n",
        "\n",
        "n = 100\n",
        "random.seed(1)\n",
        "points = [(random.randint(0,100),random.randint(0,100)) for i in range(n)]\n",
        "\n",
        "# calculate Euclidean distance and round-towards-zero (truncate)\n",
        "def distance(points, i, j):\n",
        "    dx = points[i][0] - points[j][0]\n",
        "    dy = points[i][1] - points[j][1]\n",
        "    return math.floor(math.sqrt(dx*dx + dy*dy))\n",
        "\n",
        "# Dictionary of Euclidean distance between each pair of points\n",
        "dist = {(i,j) : distance(points,i,j) for i in range(n) for j in range(n) if i!=j }\n",
        "\n",
        "m = Model()\n",
        "\n",
        "vars = m.addVars( dist.keys() , obj=dist, vtype=GRB.BINARY, name='a[%d,%d]'%(i,j))\n",
        "\n",
        "m.addConstrs(vars.sum(i,'*') == 1 for i in range(n))\n",
        "m.addConstrs(vars.sum('*',i) == 1 for i in range(n))\n",
        "\n",
        "m._vars = vars\n",
        "m.Params.lazyConstraints = 1\n",
        "m.optimize(subtourelim)\n",
        "\n",
        "vals = m.getAttr('x', vars)\n",
        "selected = tuplelist((i,j) for i,j in vals.keys() if vals[i,j] > 0.5)\n",
        "\n",
        "tour = subtour(selected)\n",
        "assert len(tour) == n\n",
        "\n",
        "print('')\n",
        "print('Optimal tour: %s' % str(tour))\n",
        "print('Optimal cost: %g' % m.objVal)\n",
        "print('')"
      ],
      "execution_count": 0,
      "outputs": []
    },
    {
      "metadata": {
        "id": "SxM4poRP4cGL",
        "colab_type": "text"
      },
      "cell_type": "markdown",
      "source": [
        "El mismo modelo pero ahora aprovechando que la matriz de costos es simétrica al ser generadas con distancias Euclídeas, y por tanto con una variable $\\{i,j\\}$ en lugar de dos variables por pareja de nodos. Esto permite trabajar con la mitad de las variables y termina antes, pero resta generalidad porque con este modelo reducido no podremos resolver ejemplos asimétricos."
      ]
    },
    {
      "metadata": {
        "id": "Snam4hT453Ng",
        "colab_type": "code",
        "colab": {}
      },
      "cell_type": "code",
      "source": [
        "import sys\n",
        "import math\n",
        "import random\n",
        "import itertools\n",
        "from gurobipy import *\n",
        "\n",
        "# Callback: detectando subtours en soluciones enteras\n",
        "\n",
        "def subtourelim(model, where):\n",
        "    if where == GRB.Callback.MIPSOL:\n",
        "        # creamos el grafo soporte con los arcos que tienen variables positivas\n",
        "        vals = model.cbGetSolution(model._vars)\n",
        "        selected = tuplelist((i,j) for i,j in model._vars.keys() if vals[i,j] > 0.5)\n",
        "        # find the shortest cycle in the selected edge list\n",
        "        tour = subtour(selected)\n",
        "        if len(tour) < n:\n",
        "            print(\"nuevo subtour de \",len(tour),\" nodos detectado\")\n",
        "            model.cbLazy( quicksum(model._vars[i,j] for i,j in itertools.combinations(tour, 2)) <= len(tour)-1 )\n",
        "\n",
        "\n",
        "# Given a tuplelist of edges, find the shortest subtour\n",
        "\n",
        "def subtour(edges):\n",
        "    unvisited = list(range(n))\n",
        "    cycle = range(n+1) # initial length has 1 more city\n",
        "    while unvisited: # true if list is non-empty\n",
        "        thiscycle = []\n",
        "        neighbors = unvisited\n",
        "        while neighbors:\n",
        "            current = neighbors[0]\n",
        "            thiscycle.append(current)\n",
        "            unvisited.remove(current)\n",
        "            neighbors = [j for i,j in edges.select(current,'*') if j in unvisited]\n",
        "        if len(cycle) > len(thiscycle):\n",
        "            cycle = thiscycle\n",
        "    return cycle\n",
        "\n",
        "# función principal\n",
        "\n",
        "n = 100\n",
        "random.seed(1)\n",
        "points = [(random.randint(0,100),random.randint(0,100)) for i in range(n)]\n",
        "\n",
        "# calculate Euclidean distance and round-towards-zero (truncate)\n",
        "def distance(points, i, j):\n",
        "    dx = points[i][0] - points[j][0]\n",
        "    dy = points[i][1] - points[j][1]\n",
        "    return math.floor(math.sqrt(dx*dx + dy*dy))\n",
        "\n",
        "# Dictionary of Euclidean distance between each pair of points\n",
        "dist = {(i,j) : distance(points,i,j) for i in range(n) for j in range(i)}\n",
        "\n",
        "m = Model()\n",
        "\n",
        "vars = m.addVars(dist.keys(), obj=dist, vtype=GRB.BINARY, name='e[%d,%d]'%(i,j))\n",
        "for i,j in vars.keys():\n",
        "    vars[j,i] = vars[i,j] # edge in opposite direction\n",
        "\n",
        "m.addConstrs(vars.sum(i,'*') == 2 for i in range(n))\n",
        "\n",
        "m._vars = vars\n",
        "m.Params.lazyConstraints = 1\n",
        "m.optimize(subtourelim)\n",
        "\n",
        "vals = m.getAttr('x', vars)\n",
        "selected = tuplelist((i,j) for i,j in vals.keys() if vals[i,j] > 0.5)\n",
        "\n",
        "tour = subtour(selected)\n",
        "assert len(tour) == n\n",
        "\n",
        "print('')\n",
        "print('Optimal tour: %s' % str(tour))\n",
        "print('Optimal cost: %g' % m.objVal)\n",
        "print('')"
      ],
      "execution_count": 0,
      "outputs": []
    },
    {
      "metadata": {
        "colab_type": "text",
        "id": "rAFCG-i_x1M1"
      },
      "cell_type": "markdown",
      "source": [
        "# Problemas de Rutas de Vehículos"
      ]
    },
    {
      "metadata": {
        "colab_type": "text",
        "id": "VkPz1mdnbNyB"
      },
      "cell_type": "markdown",
      "source": [
        "# Ejemplos con GUROBI"
      ]
    },
    {
      "metadata": {
        "colab_type": "text",
        "id": "9q2_AKW-iXC8"
      },
      "cell_type": "markdown",
      "source": [
        "Para terminar te presento el modelo axial pero en el lenguaje de Gurobi, que es comercial y no podrás ejecutarlo sin licencia:\n",
        "\n"
      ]
    },
    {
      "metadata": {
        "colab_type": "code",
        "id": "utgI4m4javL6",
        "colab": {}
      },
      "cell_type": "code",
      "source": [
        "!pip install ortools\n",
        "from ortools.linear_solver import pywraplp\n",
        "\n",
        "solver = pywraplp.Solver('ProblemaEnteroDificil',  pywraplp.Solver.CBC_MIXED_INTEGER_PROGRAMMING )\n",
        "\n",
        "x = solver.IntVar(0.0, solver.infinity(), 'x')\n",
        "y = solver.IntVar(0.0, solver.infinity(), 'y')\n",
        "z = solver.IntVar(0.0, solver.infinity(), 'z')\n",
        "\n",
        "# solver.SetTimeLimit( ????? * 1000 )\n",
        "\n",
        "\n",
        "solver.Minimize(x)\n",
        "solver.Add( 75001 * y + 75002 * z == 75000 + 75000 * x )\n",
        "result_status = solver.Solve()\n",
        "\n",
        "# The problem has an optimal solution.\n",
        "assert result_status == pywraplp.Solver.OPTIMAL\n",
        "  \n",
        "print('Number of variables =', solver.NumVariables())\n",
        "print('Number of constraints =', solver.NumConstraints())\n",
        "print('Optimal objective value = %d' % solver.Objective().Value())\n",
        "  \n",
        "# The value of each variable in the solution.\n",
        "variable_list = [x, y, z]\n",
        "\n",
        "for variable in variable_list:\n",
        "    print('   %s = %d' % (variable.name(), variable.solution_value()))\n",
        "    \n",
        "print(\"Time = \", solver.WallTime(), \" milliseconds\")\n",
        "print(\"Iterations = \", solver.Iterations())\n",
        "print(\"Nodes = \", solver.nodes())"
      ],
      "execution_count": 0,
      "outputs": []
    },
    {
      "metadata": {
        "colab_type": "code",
        "id": "NZGxNeWvad4a",
        "colab": {}
      },
      "cell_type": "code",
      "source": [
        "from gurobi import *\n",
        "modelo = Model(\"ProblemaEnteroDificil\")\n",
        "\n",
        "x = modelo.addVar(vtype=GRB.INTEGER, name=\"x\")\n",
        "y = modelo.addVar(vtype=GRB.INTEGER, name=\"y\")\n",
        "z = modelo.addVar(vtype=GRB.INTEGER, name=\"z\")\n",
        "\n",
        "modelo.setObjective(x, GRB.MINIMIZE)\n",
        "modelo.addConstr( 75001 * y + 75002 * z == 75000 + 75000 * x , \"c0\")\n",
        "modelo.optimize()\n",
        "\n",
        "print('Optimal  objective value = %g' % modelo.objVal)\n",
        "for variable in modelo.getVars():\n",
        "    print('  %s = %g' % (variable.varName, variable.x))\n",
        "print('runtime is ',modelo.Runtime)"
      ],
      "execution_count": 0,
      "outputs": []
    },
    {
      "metadata": {
        "colab_type": "code",
        "id": "qaFCU22Cif76",
        "colab": {}
      },
      "cell_type": "code",
      "source": [
        "from gurobipy import *\n",
        "import random\n",
        "\n",
        "dimension = 100\n",
        "opciones  = range(dimension)\n",
        "costo = [[[random.randint(1,101) for i in opciones] for j in opciones] for k in opciones]\n",
        "\n",
        "modelo=Model(\"Asignacion3dimensional\")\n",
        "x = {}\n",
        "for i in opciones:\n",
        "    for j in opciones:\n",
        "        for k in opciones:\n",
        "            x[i,j,k] = modelo.addVar(vtype=GRB.BINARY, name=\"x[%i,%i,%i]\" % (i,j,k))\n",
        "\n",
        "modelo.modelSense = GRB.MAXIMIZE\n",
        "modelo.setObjective( quicksum(costo[i][j][k] * x[i,j,k] for i in opciones for j in opciones for k in opciones) )\n",
        "    \n",
        "for i in opciones:\n",
        "    modelo.addConstr( quicksum(x[i,j,k] for j in opciones for k in opciones) == 1 )\n",
        "for j in opciones:\n",
        "    modelo.addConstr( quicksum(x[i,j,k] for i in opciones for k in opciones) == 1 )\n",
        "for k in opciones:\n",
        "    modelo.addConstr( quicksum(x[i,j,k] for i in opciones for j in opciones) == 1 )\n",
        "                    \n",
        "modelo.optimize()\n",
        "                    \n",
        "print('Optimal  objective value = %g' % modelo.objVal)\n",
        "print('runtime is ',modelo.Runtime)"
      ],
      "execution_count": 0,
      "outputs": []
    }
  ]
}